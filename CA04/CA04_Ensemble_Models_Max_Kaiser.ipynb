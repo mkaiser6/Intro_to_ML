{
  "nbformat": 4,
  "nbformat_minor": 0,
  "metadata": {
    "colab": {
      "name": "CA04_Ensemble_Models_Max_Kaiser.ipynb",
      "provenance": [],
      "collapsed_sections": []
    },
    "kernelspec": {
      "name": "python3",
      "display_name": "Python 3"
    },
    "language_info": {
      "name": "python"
    }
  },
  "cells": [
    {
      "cell_type": "markdown",
      "metadata": {
        "id": "S5qo_UVb55Be"
      },
      "source": [
        "# Your name: Max Kaiser\n",
        "\n",
        "## Assignment Name: CA04 - Ensemble Models\n"
      ]
    },
    {
      "cell_type": "markdown",
      "metadata": {
        "id": "nlJomg_z6CCV"
      },
      "source": [
        "# Program Inititialization Section\n",
        "## Enter your import packages here"
      ]
    },
    {
      "cell_type": "code",
      "metadata": {
        "id": "nfvIUKtE4f1O"
      },
      "source": [
        "# import packages \n",
        "\n",
        "import pandas as pd \n",
        "import numpy as np\n",
        "import matplotlib.pyplot as plt\n",
        "from sklearn.tree import DecisionTreeClassifier\n",
        "from sklearn import preprocessing \n",
        "\n",
        "from sklearn.preprocessing import LabelEncoder # transformation: categorical to numerical variable \n",
        "from sklearn.ensemble import RandomForestClassifier\n",
        "from sklearn.ensemble import AdaBoostClassifier\n",
        "from sklearn.ensemble import GradientBoostingClassifier\n",
        "from xgboost import XGBClassifier\n",
        "from sklearn.metrics import accuracy_score, roc_auc_score # performance metrics"
      ],
      "execution_count": 33,
      "outputs": []
    },
    {
      "cell_type": "markdown",
      "metadata": {
        "id": "VovYAC5E5FwD"
      },
      "source": [
        "# **1. Data Source and Contents**\n",
        "\n",
        "\n",
        "\n",
        "# Data File Reading Section\n",
        "## Write code to read in data from external sources here"
      ]
    },
    {
      "cell_type": "markdown",
      "metadata": {
        "id": "qIkn3Iqp6Ryr"
      },
      "source": [
        "The dataset is obtained from the Census Bureau and represents salaries of people\n",
        "along with seven demographic variables. The following is a description of our dataset:\n",
        "\n",
        "• **Number of target classes**: 2 ('>50K' and '<=50K') [ Labels: 1, 0 ]\n",
        "\n",
        "• **Number of attributes (Columns)**: 7\n",
        "\n",
        "\n",
        "• **Number of instances (Rows)**: 48,842"
      ]
    },
    {
      "cell_type": "code",
      "metadata": {
        "id": "yqXlNcEC5Cqg"
      },
      "source": [
        "#read datasets\n",
        "\n",
        "from google.colab import files\n",
        "uploaded = files.upload()\n",
        "\n",
        "#run the code and choose census_data.csv file from your local computer "
      ],
      "execution_count": null,
      "outputs": []
    },
    {
      "cell_type": "code",
      "metadata": {
        "id": "eTy2HTQR5K4o"
      },
      "source": [
        "census_data = pd.read_csv('census_data.csv')"
      ],
      "execution_count": 34,
      "outputs": []
    },
    {
      "cell_type": "markdown",
      "metadata": {
        "id": "kjdzzPaOB0o_"
      },
      "source": [
        "# **2. Data Quality Analysis**\n",
        "\n",
        "Initial Data Investigation Section\n",
        "\n",
        "## Summarized details\n",
        "### Generate descriptive statistics that summarize the central tendency, dispersion, and shape of a dataset’s distribution, excluding NaN values.\n"
      ]
    },
    {
      "cell_type": "code",
      "metadata": {
        "colab": {
          "base_uri": "https://localhost:8080/",
          "height": 193
        },
        "id": "ZYnjZX9RB1uM",
        "outputId": "25bb4ea2-4b99-48c5-deaa-2b2830738279"
      },
      "source": [
        "# 1. Statistical Description of data (data.describe)\n",
        "\n",
        "census_data.dtypes\n",
        "\n",
        "census_data.describe(include=['object'])"
      ],
      "execution_count": 10,
      "outputs": [
        {
          "output_type": "execute_result",
          "data": {
            "text/html": [
              "<div>\n",
              "<style scoped>\n",
              "    .dataframe tbody tr th:only-of-type {\n",
              "        vertical-align: middle;\n",
              "    }\n",
              "\n",
              "    .dataframe tbody tr th {\n",
              "        vertical-align: top;\n",
              "    }\n",
              "\n",
              "    .dataframe thead th {\n",
              "        text-align: right;\n",
              "    }\n",
              "</style>\n",
              "<table border=\"1\" class=\"dataframe\">\n",
              "  <thead>\n",
              "    <tr style=\"text-align: right;\">\n",
              "      <th></th>\n",
              "      <th>hours_per_week_bin</th>\n",
              "      <th>occupation_bin</th>\n",
              "      <th>msr_bin</th>\n",
              "      <th>capital_gl_bin</th>\n",
              "      <th>race_sex_bin</th>\n",
              "      <th>education_num_bin</th>\n",
              "      <th>education_bin</th>\n",
              "      <th>workclass_bin</th>\n",
              "      <th>age_bin</th>\n",
              "      <th>flag</th>\n",
              "    </tr>\n",
              "  </thead>\n",
              "  <tbody>\n",
              "    <tr>\n",
              "      <th>count</th>\n",
              "      <td>48842</td>\n",
              "      <td>48842</td>\n",
              "      <td>48842</td>\n",
              "      <td>48842</td>\n",
              "      <td>48842</td>\n",
              "      <td>48842</td>\n",
              "      <td>48842</td>\n",
              "      <td>48842</td>\n",
              "      <td>48842</td>\n",
              "      <td>48842</td>\n",
              "    </tr>\n",
              "    <tr>\n",
              "      <th>unique</th>\n",
              "      <td>5</td>\n",
              "      <td>5</td>\n",
              "      <td>3</td>\n",
              "      <td>3</td>\n",
              "      <td>3</td>\n",
              "      <td>5</td>\n",
              "      <td>5</td>\n",
              "      <td>2</td>\n",
              "      <td>5</td>\n",
              "      <td>2</td>\n",
              "    </tr>\n",
              "    <tr>\n",
              "      <th>top</th>\n",
              "      <td>b. 31-40</td>\n",
              "      <td>c. Mid - Mid</td>\n",
              "      <td>c. High</td>\n",
              "      <td>a. = 0</td>\n",
              "      <td>c. High</td>\n",
              "      <td>b. 9-12</td>\n",
              "      <td>b. Mid</td>\n",
              "      <td>b. income</td>\n",
              "      <td>e. 40-55</td>\n",
              "      <td>train</td>\n",
              "    </tr>\n",
              "    <tr>\n",
              "      <th>freq</th>\n",
              "      <td>26639</td>\n",
              "      <td>13971</td>\n",
              "      <td>22047</td>\n",
              "      <td>42525</td>\n",
              "      <td>29737</td>\n",
              "      <td>30324</td>\n",
              "      <td>30324</td>\n",
              "      <td>46012</td>\n",
              "      <td>13963</td>\n",
              "      <td>32561</td>\n",
              "    </tr>\n",
              "  </tbody>\n",
              "</table>\n",
              "</div>"
            ],
            "text/plain": [
              "       hours_per_week_bin occupation_bin  ...   age_bin   flag\n",
              "count               48842          48842  ...     48842  48842\n",
              "unique                  5              5  ...         5      2\n",
              "top              b. 31-40   c. Mid - Mid  ...  e. 40-55  train\n",
              "freq                26639          13971  ...     13963  32561\n",
              "\n",
              "[4 rows x 10 columns]"
            ]
          },
          "metadata": {
            "tags": []
          },
          "execution_count": 10
        }
      ]
    },
    {
      "cell_type": "code",
      "metadata": {
        "colab": {
          "base_uri": "https://localhost:8080/"
        },
        "id": "hllU_ALFB_TU",
        "outputId": "06df3e52-136d-4ff5-9d32-b553b7eb39b5"
      },
      "source": [
        "# 2. Display number of total rows and columns of the dataset (data.shape)\n",
        "census_data.shape"
      ],
      "execution_count": 11,
      "outputs": [
        {
          "output_type": "execute_result",
          "data": {
            "text/plain": [
              "(48842, 11)"
            ]
          },
          "metadata": {
            "tags": []
          },
          "execution_count": 11
        }
      ]
    },
    {
      "cell_type": "code",
      "metadata": {
        "colab": {
          "base_uri": "https://localhost:8080/"
        },
        "id": "O8fI_0GICEKn",
        "outputId": "71e8d496-f3ca-4791-9547-ff7bfe387172"
      },
      "source": [
        "# 3. Display number of non-null values for each column (data.count)\n",
        "census_data.count()"
      ],
      "execution_count": 12,
      "outputs": [
        {
          "output_type": "execute_result",
          "data": {
            "text/plain": [
              "hours_per_week_bin    48842\n",
              "occupation_bin        48842\n",
              "msr_bin               48842\n",
              "capital_gl_bin        48842\n",
              "race_sex_bin          48842\n",
              "education_num_bin     48842\n",
              "education_bin         48842\n",
              "workclass_bin         48842\n",
              "age_bin               48842\n",
              "flag                  48842\n",
              "y                     48842\n",
              "dtype: int64"
            ]
          },
          "metadata": {
            "tags": []
          },
          "execution_count": 12
        }
      ]
    },
    {
      "cell_type": "code",
      "metadata": {
        "colab": {
          "base_uri": "https://localhost:8080/"
        },
        "id": "APJtrDHFCIVE",
        "outputId": "9705138c-a9f5-45ed-8107-4979a6dbb76a"
      },
      "source": [
        "# 4. Display number of null values for each column (sum of data.isnull)\n",
        "census_data.isnull().sum()\n",
        "#no null values "
      ],
      "execution_count": 13,
      "outputs": [
        {
          "output_type": "execute_result",
          "data": {
            "text/plain": [
              "hours_per_week_bin    0\n",
              "occupation_bin        0\n",
              "msr_bin               0\n",
              "capital_gl_bin        0\n",
              "race_sex_bin          0\n",
              "education_num_bin     0\n",
              "education_bin         0\n",
              "workclass_bin         0\n",
              "age_bin               0\n",
              "flag                  0\n",
              "y                     0\n",
              "dtype: int64"
            ]
          },
          "metadata": {
            "tags": []
          },
          "execution_count": 13
        }
      ]
    },
    {
      "cell_type": "code",
      "metadata": {
        "colab": {
          "base_uri": "https://localhost:8080/"
        },
        "id": "PyAB2BCICTUX",
        "outputId": "210e6a14-9d50-434e-ec88-728c3cf0a866"
      },
      "source": [
        "## 5. Display range, column, number of non-null objects of each column, datatype and memory usage \n",
        "census_data.info()\n"
      ],
      "execution_count": 14,
      "outputs": [
        {
          "output_type": "stream",
          "text": [
            "<class 'pandas.core.frame.DataFrame'>\n",
            "RangeIndex: 48842 entries, 0 to 48841\n",
            "Data columns (total 11 columns):\n",
            " #   Column              Non-Null Count  Dtype \n",
            "---  ------              --------------  ----- \n",
            " 0   hours_per_week_bin  48842 non-null  object\n",
            " 1   occupation_bin      48842 non-null  object\n",
            " 2   msr_bin             48842 non-null  object\n",
            " 3   capital_gl_bin      48842 non-null  object\n",
            " 4   race_sex_bin        48842 non-null  object\n",
            " 5   education_num_bin   48842 non-null  object\n",
            " 6   education_bin       48842 non-null  object\n",
            " 7   workclass_bin       48842 non-null  object\n",
            " 8   age_bin             48842 non-null  object\n",
            " 9   flag                48842 non-null  object\n",
            " 10  y                   48842 non-null  int64 \n",
            "dtypes: int64(1), object(10)\n",
            "memory usage: 4.1+ MB\n"
          ],
          "name": "stdout"
        }
      ]
    },
    {
      "cell_type": "code",
      "metadata": {
        "id": "NsHhntDmC_gc"
      },
      "source": [
        "# 6. Display Top 10 and Bottom 10 records (head and tail)\n",
        "\n",
        "census_data.head(10)\n",
        "\n",
        "census_data.tail(10)"
      ],
      "execution_count": null,
      "outputs": []
    },
    {
      "cell_type": "markdown",
      "metadata": {
        "id": "qj6x_5W0Eqwb"
      },
      "source": [
        "## Cleansing the dataset\n",
        "### Dropping of less valued columns:\n",
        "1. education_num_bin does not add much value to the dataset in terms of information. The education bin labels the same information in a more readable way.Therefore, we can drop this column."
      ]
    },
    {
      "cell_type": "code",
      "metadata": {
        "colab": {
          "base_uri": "https://localhost:8080/"
        },
        "id": "lUdLZ5ueEthQ",
        "outputId": "b4485e97-7520-447b-945e-8c6176693b60"
      },
      "source": [
        "#skipped this step \n",
        "\n",
        "# Cleaning up the data\n",
        "\n",
        "#dropping column that is not required\n",
        "#census_data.drop('education_num_bin',axis=1,inplace=True)\n",
        "\n",
        "#checking if dropped (displaying final columns)\n",
        "#census_data.columns "
      ],
      "execution_count": 18,
      "outputs": [
        {
          "output_type": "execute_result",
          "data": {
            "text/plain": [
              "Index(['hours_per_week_bin', 'occupation_bin', 'msr_bin', 'capital_gl_bin',\n",
              "       'race_sex_bin', 'education_bin', 'workclass_bin', 'age_bin', 'flag',\n",
              "       'y'],\n",
              "      dtype='object')"
            ]
          },
          "metadata": {
            "tags": []
          },
          "execution_count": 18
        }
      ]
    },
    {
      "cell_type": "markdown",
      "metadata": {
        "id": "50gcP-VAFDfG"
      },
      "source": [
        "###**4. Build Decision Tree Classifier Models:**\n",
        "\n",
        "**Definition:**\n",
        "\n",
        "Random forests is a supervised learning algorithm. It can be used both for classification and regression.Random forests creates decision trees on randomly selected data samples, gets prediction from each tree and selects the best solution by means of voting"
      ]
    },
    {
      "cell_type": "markdown",
      "metadata": {
        "id": "OWtNuLkcFZ89"
      },
      "source": [
        "###**Splitting the data & Label Encoding**"
      ]
    },
    {
      "cell_type": "code",
      "metadata": {
        "colab": {
          "base_uri": "https://localhost:8080/"
        },
        "id": "P24gUVo-FQgo",
        "outputId": "baf55d54-30ba-4206-ddc8-216855017082"
      },
      "source": [
        "#define columns you want to change to category and store as variable\n",
        "columns = ['hours_per_week_bin','occupation_bin','msr_bin','capital_gl_bin','race_sex_bin','education_bin','education_num_bin','workclass_bin','age_bin']\n",
        "\n",
        "census_data[columns] = census_data[columns].astype('category')\n",
        "\n",
        "#check if categorical \n",
        "census_data.dtypes"
      ],
      "execution_count": 36,
      "outputs": [
        {
          "output_type": "execute_result",
          "data": {
            "text/plain": [
              "hours_per_week_bin    category\n",
              "occupation_bin        category\n",
              "msr_bin               category\n",
              "capital_gl_bin        category\n",
              "race_sex_bin          category\n",
              "education_num_bin     category\n",
              "education_bin         category\n",
              "workclass_bin         category\n",
              "age_bin               category\n",
              "flag                    object\n",
              "y                        int64\n",
              "dtype: object"
            ]
          },
          "metadata": {
            "tags": []
          },
          "execution_count": 36
        }
      ]
    },
    {
      "cell_type": "code",
      "metadata": {
        "colab": {
          "base_uri": "https://localhost:8080/",
          "height": 379
        },
        "id": "1wF9w6KYFq-Q",
        "outputId": "ed57716c-09bb-4215-e5dc-e1d0411638dd"
      },
      "source": [
        "#import and instantiate LabelEncoder (with the default parameters)\n",
        "label_en = preprocessing.LabelEncoder()\n",
        "\n",
        "census_data[columns] = census_data[columns].apply(label_en.fit_transform)\n",
        "\n",
        "census_data.head(10)"
      ],
      "execution_count": 37,
      "outputs": [
        {
          "output_type": "execute_result",
          "data": {
            "text/html": [
              "<div>\n",
              "<style scoped>\n",
              "    .dataframe tbody tr th:only-of-type {\n",
              "        vertical-align: middle;\n",
              "    }\n",
              "\n",
              "    .dataframe tbody tr th {\n",
              "        vertical-align: top;\n",
              "    }\n",
              "\n",
              "    .dataframe thead th {\n",
              "        text-align: right;\n",
              "    }\n",
              "</style>\n",
              "<table border=\"1\" class=\"dataframe\">\n",
              "  <thead>\n",
              "    <tr style=\"text-align: right;\">\n",
              "      <th></th>\n",
              "      <th>hours_per_week_bin</th>\n",
              "      <th>occupation_bin</th>\n",
              "      <th>msr_bin</th>\n",
              "      <th>capital_gl_bin</th>\n",
              "      <th>race_sex_bin</th>\n",
              "      <th>education_num_bin</th>\n",
              "      <th>education_bin</th>\n",
              "      <th>workclass_bin</th>\n",
              "      <th>age_bin</th>\n",
              "      <th>flag</th>\n",
              "      <th>y</th>\n",
              "    </tr>\n",
              "  </thead>\n",
              "  <tbody>\n",
              "    <tr>\n",
              "      <th>0</th>\n",
              "      <td>1</td>\n",
              "      <td>1</td>\n",
              "      <td>1</td>\n",
              "      <td>2</td>\n",
              "      <td>2</td>\n",
              "      <td>2</td>\n",
              "      <td>2</td>\n",
              "      <td>1</td>\n",
              "      <td>3</td>\n",
              "      <td>train</td>\n",
              "      <td>0</td>\n",
              "    </tr>\n",
              "    <tr>\n",
              "      <th>1</th>\n",
              "      <td>0</td>\n",
              "      <td>4</td>\n",
              "      <td>2</td>\n",
              "      <td>0</td>\n",
              "      <td>2</td>\n",
              "      <td>2</td>\n",
              "      <td>2</td>\n",
              "      <td>1</td>\n",
              "      <td>4</td>\n",
              "      <td>train</td>\n",
              "      <td>0</td>\n",
              "    </tr>\n",
              "    <tr>\n",
              "      <th>2</th>\n",
              "      <td>1</td>\n",
              "      <td>0</td>\n",
              "      <td>1</td>\n",
              "      <td>0</td>\n",
              "      <td>2</td>\n",
              "      <td>1</td>\n",
              "      <td>1</td>\n",
              "      <td>1</td>\n",
              "      <td>3</td>\n",
              "      <td>train</td>\n",
              "      <td>0</td>\n",
              "    </tr>\n",
              "    <tr>\n",
              "      <th>3</th>\n",
              "      <td>1</td>\n",
              "      <td>0</td>\n",
              "      <td>2</td>\n",
              "      <td>0</td>\n",
              "      <td>1</td>\n",
              "      <td>0</td>\n",
              "      <td>0</td>\n",
              "      <td>1</td>\n",
              "      <td>4</td>\n",
              "      <td>train</td>\n",
              "      <td>0</td>\n",
              "    </tr>\n",
              "    <tr>\n",
              "      <th>4</th>\n",
              "      <td>1</td>\n",
              "      <td>4</td>\n",
              "      <td>2</td>\n",
              "      <td>0</td>\n",
              "      <td>0</td>\n",
              "      <td>2</td>\n",
              "      <td>2</td>\n",
              "      <td>1</td>\n",
              "      <td>1</td>\n",
              "      <td>train</td>\n",
              "      <td>0</td>\n",
              "    </tr>\n",
              "    <tr>\n",
              "      <th>5</th>\n",
              "      <td>1</td>\n",
              "      <td>4</td>\n",
              "      <td>2</td>\n",
              "      <td>0</td>\n",
              "      <td>1</td>\n",
              "      <td>3</td>\n",
              "      <td>3</td>\n",
              "      <td>1</td>\n",
              "      <td>3</td>\n",
              "      <td>train</td>\n",
              "      <td>0</td>\n",
              "    </tr>\n",
              "    <tr>\n",
              "      <th>6</th>\n",
              "      <td>0</td>\n",
              "      <td>0</td>\n",
              "      <td>1</td>\n",
              "      <td>0</td>\n",
              "      <td>0</td>\n",
              "      <td>0</td>\n",
              "      <td>0</td>\n",
              "      <td>1</td>\n",
              "      <td>4</td>\n",
              "      <td>train</td>\n",
              "      <td>0</td>\n",
              "    </tr>\n",
              "    <tr>\n",
              "      <th>7</th>\n",
              "      <td>3</td>\n",
              "      <td>4</td>\n",
              "      <td>2</td>\n",
              "      <td>0</td>\n",
              "      <td>2</td>\n",
              "      <td>1</td>\n",
              "      <td>1</td>\n",
              "      <td>1</td>\n",
              "      <td>4</td>\n",
              "      <td>train</td>\n",
              "      <td>1</td>\n",
              "    </tr>\n",
              "    <tr>\n",
              "      <th>8</th>\n",
              "      <td>3</td>\n",
              "      <td>4</td>\n",
              "      <td>1</td>\n",
              "      <td>2</td>\n",
              "      <td>1</td>\n",
              "      <td>3</td>\n",
              "      <td>3</td>\n",
              "      <td>1</td>\n",
              "      <td>2</td>\n",
              "      <td>train</td>\n",
              "      <td>1</td>\n",
              "    </tr>\n",
              "    <tr>\n",
              "      <th>9</th>\n",
              "      <td>1</td>\n",
              "      <td>4</td>\n",
              "      <td>2</td>\n",
              "      <td>2</td>\n",
              "      <td>2</td>\n",
              "      <td>2</td>\n",
              "      <td>2</td>\n",
              "      <td>1</td>\n",
              "      <td>4</td>\n",
              "      <td>train</td>\n",
              "      <td>1</td>\n",
              "    </tr>\n",
              "  </tbody>\n",
              "</table>\n",
              "</div>"
            ],
            "text/plain": [
              "   hours_per_week_bin  occupation_bin  msr_bin  ...  age_bin   flag  y\n",
              "0                   1               1        1  ...        3  train  0\n",
              "1                   0               4        2  ...        4  train  0\n",
              "2                   1               0        1  ...        3  train  0\n",
              "3                   1               0        2  ...        4  train  0\n",
              "4                   1               4        2  ...        1  train  0\n",
              "5                   1               4        2  ...        3  train  0\n",
              "6                   0               0        1  ...        4  train  0\n",
              "7                   3               4        2  ...        4  train  1\n",
              "8                   3               4        1  ...        2  train  1\n",
              "9                   1               4        2  ...        4  train  1\n",
              "\n",
              "[10 rows x 11 columns]"
            ]
          },
          "metadata": {
            "tags": []
          },
          "execution_count": 37
        }
      ]
    },
    {
      "cell_type": "code",
      "metadata": {
        "colab": {
          "base_uri": "https://localhost:8080/"
        },
        "id": "Pt9QYZJ8F4sV",
        "outputId": "1ada9db9-774a-416c-8cb5-5dd7271cf72c"
      },
      "source": [
        "#Split the Dataset in Training and Test data \n",
        "\n",
        "#slice the DF using flag column \n",
        "\n",
        "train_df = census_data.loc[census_data.flag =='train']\n",
        "\n",
        "train_df.shape #32561 instances , 10 columns \n",
        "\n",
        "#drop flag column (not useful)\n",
        "train_df.drop(columns='flag',inplace=True)\n",
        "\n",
        "train_df.shape #9 columns \n",
        "\n",
        "test_df =  census_data.loc[census_data.flag =='test']\n",
        "\n",
        "test_df.shape #16281 instances, 10 columns \n",
        "\n",
        "test_df.drop(columns='flag',inplace=True)\n",
        "\n",
        "test_df.shape"
      ],
      "execution_count": 38,
      "outputs": [
        {
          "output_type": "stream",
          "text": [
            "/usr/local/lib/python3.7/dist-packages/pandas/core/frame.py:4174: SettingWithCopyWarning: \n",
            "A value is trying to be set on a copy of a slice from a DataFrame\n",
            "\n",
            "See the caveats in the documentation: https://pandas.pydata.org/pandas-docs/stable/user_guide/indexing.html#returning-a-view-versus-a-copy\n",
            "  errors=errors,\n"
          ],
          "name": "stderr"
        },
        {
          "output_type": "execute_result",
          "data": {
            "text/plain": [
              "(16281, 10)"
            ]
          },
          "metadata": {
            "tags": []
          },
          "execution_count": 38
        }
      ]
    },
    {
      "cell_type": "code",
      "metadata": {
        "id": "9r5N8HvGGD6G"
      },
      "source": [
        "# define X and y and split into training and test sets\n",
        "\n",
        "X_train  = train_df.drop('y',axis=1) \n",
        "X_test = test_df.drop('y',axis=1)\n",
        "\n",
        "y_train = train_df['y'] # the response variable we want to predict \n",
        "y_test = test_df['y']"
      ],
      "execution_count": 39,
      "outputs": []
    },
    {
      "cell_type": "markdown",
      "metadata": {
        "id": "RG5uESHaGYJd"
      },
      "source": [
        "**2. Finding Optimal Value of a key Hyper-parameter (Random Forest)**"
      ]
    },
    {
      "cell_type": "code",
      "metadata": {
        "colab": {
          "base_uri": "https://localhost:8080/",
          "height": 282
        },
        "id": "eD66TebTGWxx",
        "outputId": "8932fa97-40c2-4c72-9359-5a91ee57286c"
      },
      "source": [
        "results = []\n",
        "max_depth_options = [2,4,6,8,10,12,14,16,18,20]\n",
        "for trees in max_depth_options:\n",
        "    model = RandomForestClassifier(max_depth = trees, random_state=101)\n",
        "    model.fit(X_train, y_train)\n",
        "    y_pred = model.predict(X_test)\n",
        "    accuracy = np.mean(y_test==y_pred)\n",
        "    results.append(accuracy)\n",
        "\n",
        "plt.figure(figsize=(8,4))\n",
        "pd.Series(results, max_depth_options).plot(color =\"green\",marker=\"o\")\n",
        "\n",
        "\n",
        "# why different from his graph in the instructions (same data and code)?"
      ],
      "execution_count": 40,
      "outputs": [
        {
          "output_type": "execute_result",
          "data": {
            "text/plain": [
              "<matplotlib.axes._subplots.AxesSubplot at 0x7effa55215d0>"
            ]
          },
          "metadata": {
            "tags": []
          },
          "execution_count": 40
        },
        {
          "output_type": "display_data",
          "data": {
            "image/png": "[encoded data removed]",
            "text/plain": [
              "<Figure size 576x288 with 1 Axes>"
            ]
          },
          "metadata": {
            "tags": [],
            "needs_background": "light"
          }
        }
      ]
    },
    {
      "cell_type": "markdown",
      "metadata": {
        "id": "kd_ir0saIgWi"
      },
      "source": [
        "**2. Building a Random Forest Model**"
      ]
    },
    {
      "cell_type": "code",
      "metadata": {
        "colab": {
          "base_uri": "https://localhost:8080/",
          "height": 282
        },
        "id": "Y_aSnF28IflJ",
        "outputId": "2a5c26f4-915a-41a5-9638-9b59d83bf612"
      },
      "source": [
        "results = []\n",
        "n_estimator = [50,100,150,200,250,300,350,400,450,500]\n",
        "\n",
        "for trees in n_estimator:\n",
        "    model = RandomForestClassifier(n_estimators= trees, random_state=101)\n",
        "    model.fit(X_train, y_train)\n",
        "    y_pred = model.predict(X_test)\n",
        "    accuracy = np.mean(y_test==y_pred)\n",
        "    results.append(accuracy)\n",
        "\n",
        "plt.figure(figsize=(8,4))\n",
        "pd.Series(results, n_estimator).plot(color =\"red\",marker=\"o\")"
      ],
      "execution_count": 43,
      "outputs": [
        {
          "output_type": "execute_result",
          "data": {
            "text/plain": [
              "<matplotlib.axes._subplots.AxesSubplot at 0x7effa52b9750>"
            ]
          },
          "metadata": {
            "tags": []
          },
          "execution_count": 43
        },
        {
          "output_type": "display_data",
          "data": {
            "image/png": "[encoded data removed]",
            "text/plain": [
              "<Figure size 576x288 with 1 Axes>"
            ]
          },
          "metadata": {
            "tags": [],
            "needs_background": "light"
          }
        }
      ]
    },
    {
      "cell_type": "markdown",
      "metadata": {
        "id": "hUFlnYsvLqUn"
      },
      "source": [
        "# ***Answer the following questions:***\n",
        "\n",
        "**1. Write your observations about the Classifier's behavior with respect to the number of estimators**\n",
        "\n",
        "The results suggest that accuracy is going down with a higher number of estimators. The highest accuracy in the first model was achieved where # of estimators was 8. \n",
        "\n",
        "The second model had the best accuracy score at 50. \n",
        "\n",
        "\n",
        "\n",
        "\n",
        "\n",
        "**2. Is there an optimal value of the estimator within the given range?**\n",
        "\n",
        "The optimal value for the range of the estimator within the given range is 8 (model 1) & 50 (model 2).\n",
        "\n",
        "\n",
        "\n"
      ]
    },
    {
      "cell_type": "markdown",
      "metadata": {
        "id": "h6qFGbtsQIqs"
      },
      "source": [
        "# ***AdaBoost***"
      ]
    },
    {
      "cell_type": "code",
      "metadata": {
        "colab": {
          "base_uri": "https://localhost:8080/",
          "height": 282
        },
        "id": "AK_PQ3H7N_1n",
        "outputId": "5a62897d-ae85-4f11-bf04-6de41e37cae8"
      },
      "source": [
        "results = []\n",
        "n_estimator = [50,100,150,200,250,300,350,400,450,500]\n",
        "\n",
        "for trees in n_estimator:\n",
        "    model = AdaBoostClassifier(n_estimators= trees, random_state=101)\n",
        "    model.fit(X_train, y_train)\n",
        "    y_pred = model.predict(X_test)\n",
        "    accuracy = np.mean(y_test==y_pred)\n",
        "    results.append(accuracy)\n",
        "\n",
        "plt.figure(figsize=(8,4))\n",
        "pd.Series(results, n_estimator).plot(color =\"blue\",marker=\"o\")\n"
      ],
      "execution_count": 47,
      "outputs": [
        {
          "output_type": "execute_result",
          "data": {
            "text/plain": [
              "<matplotlib.axes._subplots.AxesSubplot at 0x7effa5093a90>"
            ]
          },
          "metadata": {
            "tags": []
          },
          "execution_count": 47
        },
        {
          "output_type": "display_data",
          "data": {
            "image/png": "[encoded data removed]",
            "text/plain": [
              "<Figure size 576x288 with 1 Axes>"
            ]
          },
          "metadata": {
            "tags": [],
            "needs_background": "light"
          }
        }
      ]
    },
    {
      "cell_type": "markdown",
      "metadata": {
        "id": "jIVy0gj6RkeZ"
      },
      "source": [
        "# ***GradientBoost***"
      ]
    },
    {
      "cell_type": "code",
      "metadata": {
        "colab": {
          "base_uri": "https://localhost:8080/",
          "height": 282
        },
        "id": "okz2Qp8ARneB",
        "outputId": "b97ae86a-e4de-4675-dfab-9e00b20476e8"
      },
      "source": [
        "results = []\n",
        "n_estimator = [50,100,150,200,250,300,350,400,450,500]\n",
        "\n",
        "for trees in n_estimator:\n",
        "    model = GradientBoostingClassifier(n_estimators= trees, random_state=101)\n",
        "    model.fit(X_train, y_train)\n",
        "    y_pred = model.predict(X_test)\n",
        "    accuracy = np.mean(y_test==y_pred)\n",
        "    results.append(accuracy)\n",
        "\n",
        "plt.figure(figsize=(8,4))\n",
        "pd.Series(results, n_estimator).plot(color =\"yellow\",marker=\"o\")\n"
      ],
      "execution_count": 48,
      "outputs": [
        {
          "output_type": "execute_result",
          "data": {
            "text/plain": [
              "<matplotlib.axes._subplots.AxesSubplot at 0x7effa53a2910>"
            ]
          },
          "metadata": {
            "tags": []
          },
          "execution_count": 48
        },
        {
          "output_type": "display_data",
          "data": {
            "image/png": "[encoded data removed]",
            "text/plain": [
              "<Figure size 576x288 with 1 Axes>"
            ]
          },
          "metadata": {
            "tags": [],
            "needs_background": "light"
          }
        }
      ]
    },
    {
      "cell_type": "code",
      "metadata": {
        "colab": {
          "base_uri": "https://localhost:8080/",
          "height": 282
        },
        "id": "YvzHvFotR7Xw",
        "outputId": "26e2f59c-fcdc-4d1b-c12a-ad9bd7690bce"
      },
      "source": [
        "results = []\n",
        "n_estimator = [50,100,150,200,250,300,350,400,450,500]\n",
        "\n",
        "for trees in n_estimator:\n",
        "    model = XGBClassifier(n_estimators= trees, random_state=101)\n",
        "    model.fit(X_train, y_train)\n",
        "    y_pred = model.predict(X_test)\n",
        "    accuracy = np.mean(y_test==y_pred)\n",
        "    results.append(accuracy)\n",
        "\n",
        "plt.figure(figsize=(8,4))\n",
        "pd.Series(results, n_estimator).plot(color =\"red\",marker=\"o\")\n"
      ],
      "execution_count": 46,
      "outputs": [
        {
          "output_type": "execute_result",
          "data": {
            "text/plain": [
              "<matplotlib.axes._subplots.AxesSubplot at 0x7effa52a26d0>"
            ]
          },
          "metadata": {
            "tags": []
          },
          "execution_count": 46
        },
        {
          "output_type": "display_data",
          "data": {
            "image/png": "[encoded data removed]",
            "text/plain": [
              "<Figure size 576x288 with 1 Axes>"
            ]
          },
          "metadata": {
            "tags": [],
            "needs_background": "light"
          }
        }
      ]
    },
    {
      "cell_type": "markdown",
      "metadata": {
        "id": "CZXdH4WMSbTw"
      },
      "source": [
        "# ***5. Compare Performance***\n",
        "\n",
        "Keep all common Hyper-parameters same for four models (Random Forest, AdaBoost,\n",
        "Gradient Boost, XGB), run them again and create a performance comparison table\n",
        "within your code and print the same as follows:"
      ]
    },
    {
      "cell_type": "code",
      "metadata": {
        "colab": {
          "base_uri": "https://localhost:8080/",
          "height": 111
        },
        "id": "3jaSo7loSlcl",
        "outputId": "17d717da-28e4-405f-c86e-3155b6eb012d"
      },
      "source": [
        "#create comparison table\n",
        "\n",
        "model_comparison = pd.DataFrame(columns= ['Random Forest','AdaBoost','GradientBoost','XGB'],index=['Accuracy','AUC'])\n",
        "\n",
        "model_comparison\n",
        "\n",
        "#empty table \n",
        "#not sure how to code/automate AUC and Accuracy for each of them. \n",
        "#create list and append "
      ],
      "execution_count": 52,
      "outputs": [
        {
          "output_type": "execute_result",
          "data": {
            "text/html": [
              "<div>\n",
              "<style scoped>\n",
              "    .dataframe tbody tr th:only-of-type {\n",
              "        vertical-align: middle;\n",
              "    }\n",
              "\n",
              "    .dataframe tbody tr th {\n",
              "        vertical-align: top;\n",
              "    }\n",
              "\n",
              "    .dataframe thead th {\n",
              "        text-align: right;\n",
              "    }\n",
              "</style>\n",
              "<table border=\"1\" class=\"dataframe\">\n",
              "  <thead>\n",
              "    <tr style=\"text-align: right;\">\n",
              "      <th></th>\n",
              "      <th>Random Forest</th>\n",
              "      <th>AdaBoost</th>\n",
              "      <th>GradientBoost</th>\n",
              "      <th>XGB</th>\n",
              "    </tr>\n",
              "  </thead>\n",
              "  <tbody>\n",
              "    <tr>\n",
              "      <th>Accuracy</th>\n",
              "      <td>NaN</td>\n",
              "      <td>NaN</td>\n",
              "      <td>NaN</td>\n",
              "      <td>NaN</td>\n",
              "    </tr>\n",
              "    <tr>\n",
              "      <th>AUC</th>\n",
              "      <td>NaN</td>\n",
              "      <td>NaN</td>\n",
              "      <td>NaN</td>\n",
              "      <td>NaN</td>\n",
              "    </tr>\n",
              "  </tbody>\n",
              "</table>\n",
              "</div>"
            ],
            "text/plain": [
              "         Random Forest AdaBoost GradientBoost  XGB\n",
              "Accuracy           NaN      NaN           NaN  NaN\n",
              "AUC                NaN      NaN           NaN  NaN"
            ]
          },
          "metadata": {
            "tags": []
          },
          "execution_count": 52
        }
      ]
    }
  ]
}